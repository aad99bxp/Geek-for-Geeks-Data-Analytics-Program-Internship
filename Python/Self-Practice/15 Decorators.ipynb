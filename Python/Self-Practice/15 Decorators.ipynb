{
  "nbformat": 4,
  "nbformat_minor": 0,
  "metadata": {
    "colab": {
      "provenance": []
    },
    "kernelspec": {
      "name": "python3",
      "display_name": "Python 3"
    },
    "language_info": {
      "name": "python"
    }
  },
  "cells": [
    {
      "cell_type": "code",
      "source": [
        "def decFun(f):\n",
        "    def innerFun():\n",
        "        print(\"Welcome\")\n",
        "        f()\n",
        "    return innerFun\n",
        "\n",
        "def fun():\n",
        "    print(\"User\")\n",
        "\n",
        "fun = decFun(fun)\n",
        "fun()"
      ],
      "metadata": {
        "colab": {
          "base_uri": "https://localhost:8080/",
          "height": 0
        },
        "id": "nho-LVH0pPmj",
        "outputId": "0a895b2f-00d7-4da7-c87f-c0920660b085"
      },
      "execution_count": 2,
      "outputs": [
        {
          "output_type": "stream",
          "name": "stdout",
          "text": [
            "Welcome\n",
            "User\n"
          ]
        }
      ]
    },
    {
      "cell_type": "code",
      "execution_count": 1,
      "metadata": {
        "colab": {
          "base_uri": "https://localhost:8080/",
          "height": 0
        },
        "id": "4V1U2Z5Coy_i",
        "outputId": "4a5f28ea-9896-4bc1-b341-bc0e8081ed44"
      },
      "outputs": [
        {
          "output_type": "stream",
          "name": "stdout",
          "text": [
            "Welcome\n",
            "User\n"
          ]
        }
      ],
      "source": [
        "#Without assigning the function to vairable. Using the Decorator Syntax\n",
        "def decFun(f):\n",
        "    def innerFun():\n",
        "        print(\"Welcome\")\n",
        "        f()\n",
        "    return innerFun\n",
        "\n",
        "@decFun\n",
        "def fun():\n",
        "    print(\"User\")\n",
        "\n",
        "fun()"
      ]
    }
  ]
}